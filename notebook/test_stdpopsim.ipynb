{
 "cells": [
  {
   "cell_type": "markdown",
   "metadata": {},
   "source": [
    "# stdpopsim 测试和调试\n",
    "\n",
    "用于测试stdpopsim API的兼容性"
   ]
  },
  {
   "cell_type": "code",
   "execution_count": null,
   "metadata": {},
   "outputs": [],
   "source": [
    "import stdpopsim\n",
    "import tskit\n",
    "import numpy as np\n",
    "import matplotlib.pyplot as plt\n",
    "\n",
    "print(f\"stdpopsim version: {stdpopsim.__version__}\")\n",
    "print(f\"tskit version: {tskit.__version__}\")"
   ]
  },
  {
   "cell_type": "code",
   "execution_count": null,
   "metadata": {},
   "outputs": [],
   "source": [
    "# 测试基本API\n",
    "species = stdpopsim.get_species(\"HomSap\")\n",
    "print(f\"Species: {species.name}\")\n",
    "print(f\"Generation time: {species.generation_time} years\")\n",
    "print(f\"Common name: {species.common_name}\")"
   ]
  },
  {
   "cell_type": "code",
   "execution_count": null,
   "metadata": {},
   "outputs": [],
   "source": [
    "# 测试人口模型\n",
    "try:\n",
    "    model = species.get_demographic_model(\"OutOfAfrica_3G09\")\n",
    "    print(f\"Demographic model: {model.id}\")\n",
    "    print(f\"Populations: {[pop.name for pop in model.populations]}\")\n",
    "except Exception as e:\n",
    "    print(f\"Error getting demographic model: {e}\")\n",
    "    # 尝试列出可用的模型\n",
    "    print(\"Available models:\")\n",
    "    for model in species.demographic_models:\n",
    "        print(f\"  - {model.id}: {model.description}\")"
   ]
  },
  {
   "cell_type": "code",
   "execution_count": null,
   "metadata": {},
   "outputs": [],
   "source": [
    "# 测试contig配置\n",
    "try:\n",
    "    # 使用新的API方式，指定具体的长度范围\n",
    "    contig = species.get_contig(\"chr22\", left=0, right=1_000_000)  # 使用1Mb进行快速测试\n",
    "    print(f\"Chromosome: chr22\")\n",
    "    print(f\"Length: {contig.length:,} bp\")\n",
    "    print(f\"Mutation rate: {contig.mutation_rate:.2e}\")\n",
    "    if hasattr(contig, 'recombination_map'):\n",
    "        print(f\"Recombination rate: {contig.recombination_map.mean_rate:.2e}\")\n",
    "except Exception as e:\n",
    "    print(f\"Error getting contig: {e}\")\n",
    "    # 尝试列出可用的染色体\n",
    "    print(\"Available chromosomes:\")\n",
    "    for chrom in species.genome.chromosomes:\n",
    "        print(f\"  - {chrom.id}: {chrom.length:,} bp\")"
   ]
  },
  {
   "cell_type": "code",
   "execution_count": null,
   "metadata": {},
   "outputs": [],
   "source": [
    "# 测试简单模拟\n",
    "try:\n",
    "    # 使用最简单的配置\n",
    "    samples = {\"CHB\": 10}  # 只用10个样本进行快速测试\n",
    "    \n",
    "    engine = stdpopsim.get_engine(\"msprime\")\n",
    "    ts = engine.simulate(\n",
    "        demographic_model=model,\n",
    "        contig=contig,\n",
    "        samples=samples,\n",
    "        seed=42\n",
    "    )\n",
    "    \n",
    "    print(f\"\\n模拟成功!\")\n",
    "    print(f\"样本数: {ts.num_samples}\")\n",
    "    print(f\"树数量: {ts.num_trees:,}\")\n",
    "    print(f\"突变数: {ts.num_mutations:,}\")\n",
    "    print(f\"序列长度: {ts.sequence_length:,.0f} bp\")\n",
    "    \n",
    "    # 基本统计\n",
    "    diversity = ts.diversity()\n",
    "    print(f\"核苷酸多样性 (π): {diversity:.6f}\")\n",
    "    \n",
    "except Exception as e:\n",
    "    print(f\"模拟失败: {e}\")\n",
    "    import traceback\n",
    "    traceback.print_exc()"
   ]
  }
 ],
 "metadata": {
  "kernelspec": {
   "display_name": "Python 3",
   "language": "python",
   "name": "python3"
  },
  "language_info": {
   "codemirror_mode": {
    "name": "ipython",
    "version": 3
   },
   "file_extension": ".py",
   "mimetype": "text/x-python",
   "name": "python",
   "nbconvert_exporter": "python",
   "pygments_lexer": "ipython3",
   "version": "3.8.5"
  }
 },
 "nbformat": 4,
 "nbformat_minor": 4
}
